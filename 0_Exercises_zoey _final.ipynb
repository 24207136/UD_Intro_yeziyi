{
 "cells": [
  {
   "cell_type": "markdown",
   "id": "529d91ae",
   "metadata": {
    "tags": []
   },
   "source": [
    "# Exercise 00\n",
    "Write a bit of code that prints _Introduction to Programming_ to the console and execute the cell"
   ]
  },
  {
   "cell_type": "code",
   "execution_count": 1,
   "id": "98711beb",
   "metadata": {},
   "outputs": [
    {
     "name": "stdout",
     "output_type": "stream",
     "text": [
      "Introduction to Programming\n"
     ]
    }
   ],
   "source": [
    "print('Introduction to Programming')"
   ]
  },
  {
   "cell_type": "markdown",
   "id": "63ad5023",
   "metadata": {},
   "source": [
    "-----------------------------------------------------------------------------\n",
    "# Exercise 01\n",
    "Hello World is traditionally the first program anyone writes. It is\n",
    "very simple and the only thing it should do is print Hello World! to the\n",
    "terminal window.\n",
    "Create a file called HelloWorld.py and edit the contents so it prints Hello World! to the terminal and execute it using the command line."
   ]
  },
  {
   "cell_type": "code",
   "execution_count": null,
   "id": "7e5d8bf6-bde1-45a0-b7f5-51ffbd204ed4",
   "metadata": {},
   "outputs": [],
   "source": []
  },
  {
   "cell_type": "markdown",
   "id": "a4a7c4c2",
   "metadata": {},
   "source": [
    "-----------------------------------------------------------------------------\n",
    "# Exercise 02\n",
    "Write some code to print your name, email, and age on separate lines. For each element first assign it to a variable and use the variable to print. \n",
    "\n",
    "Bonus: try to create the print statement for all variable in one line of code. (hint: '\\n' is the character for a new line)"
   ]
  },
  {
   "cell_type": "code",
   "execution_count": 4,
   "id": "fc8fface",
   "metadata": {},
   "outputs": [
    {
     "name": "stdout",
     "output_type": "stream",
     "text": [
      "zoey\n",
      "ucbvyed@ucl.ac.uk\n",
      "24\n"
     ]
    }
   ],
   "source": [
    "myName = 'zoey'\n",
    "myEmail = 'ucbvyed@ucl.ac.uk'\n",
    "myAge = '24'\n",
    "print(myName+'\\n'+myEmail+'\\n'+myAge)"
   ]
  },
  {
   "cell_type": "markdown",
   "id": "0dd1c1d1",
   "metadata": {},
   "source": [
    "-----------------------------------------------------------------------------\n",
    "# Exercise 03\n",
    "Print the numbers 0, 178, -21, 2938 divided by 49, 436 multiplied with 9948 and 12 to the power of 20\n",
    "\n",
    "(Hint: Look up the documentation of basic arithmetic operators)"
   ]
  },
  {
   "cell_type": "code",
   "execution_count": 6,
   "id": "f3d5d009",
   "metadata": {},
   "outputs": [
    {
     "name": "stdout",
     "output_type": "stream",
     "text": [
      "0\n",
      "178\n",
      "-21\n",
      "59.95918367346939\n",
      "4337328\n",
      "3833759992447475122176\n"
     ]
    }
   ],
   "source": [
    "print(0)\n",
    "print(178)\n",
    "print(-21)\n",
    "print(2938/49)\n",
    "print(436*9948)\n",
    "print(12**20)"
   ]
  },
  {
   "cell_type": "markdown",
   "id": "1f151455",
   "metadata": {},
   "source": [
    "-----------------------------------------------------------------------------\n",
    "# Exercise 04\n",
    "Print sin(200), cos(100), tan($\\pi$/4)\n",
    "\n",
    "(Hint: Look up for how to use trigonometric function, and how to get the value of $\\pi$.)"
   ]
  },
  {
   "cell_type": "code",
   "execution_count": 20,
   "id": "d0e37690",
   "metadata": {},
   "outputs": [
    {
     "name": "stdout",
     "output_type": "stream",
     "text": [
      "-0.34202014332566866\n",
      "-0.1736481776669303\n",
      "0.9999999999999999\n"
     ]
    }
   ],
   "source": [
    "import math  ###cann't import radians\n",
    "from math import cos,sin,tan,radians\n",
    "\n",
    "print(math.sin(radians(200)))  ###200 convert to radians\n",
    "print(math.cos(radians(100)))\n",
    "print(math.tan(math.pi/4))"
   ]
  },
  {
   "cell_type": "markdown",
   "id": "9d026820",
   "metadata": {},
   "source": [
    "-----------------------------------------------------------------------------\n",
    "# Exercise 05\n",
    "Write a program to read your first and last names from the console seperately, and then print them on the console together, separated by a space."
   ]
  },
  {
   "cell_type": "code",
   "execution_count": 10,
   "id": "4c7217e0",
   "metadata": {},
   "outputs": [
    {
     "name": "stdin",
     "output_type": "stream",
     "text": [
      "your first name: ziyi\n",
      "your last name: ye\n"
     ]
    },
    {
     "name": "stdout",
     "output_type": "stream",
     "text": [
      "ziyi ye\n"
     ]
    }
   ],
   "source": [
    "first_name=input('your first name:')\n",
    "last_name=input('your last name:')\n",
    "\n",
    "print(first_name,last_name) ###you can use fn+' '+ln or just , to implement the comma"
   ]
  },
  {
   "cell_type": "markdown",
   "id": "e83fa346",
   "metadata": {},
   "source": [
    "-----------------------------------------------------------------------------\n",
    "# Exercise 06\n",
    "Write a program that determines whether a number given as user input is positive or negative\n",
    " \n",
    "You will need to convert the console input from a string to a number first!"
   ]
  },
  {
   "cell_type": "code",
   "execution_count": 12,
   "id": "ecd924c2",
   "metadata": {},
   "outputs": [
    {
     "name": "stdin",
     "output_type": "stream",
     "text": [
      "enter a number: -6\n"
     ]
    },
    {
     "name": "stdout",
     "output_type": "stream",
     "text": [
      "your number is a negative number\n"
     ]
    }
   ],
   "source": [
    "user_input=input('enter a number:')\n",
    "\n",
    "if int(user_input)>0:\n",
    "    print('your number is a postive number')\n",
    "elif int(user_input)<0:\n",
    "    print('your number is a negative number')\n",
    "else :\n",
    "    print('your number is zero')"
   ]
  },
  {
   "cell_type": "markdown",
   "id": "2a192596",
   "metadata": {},
   "source": [
    "-----------------------------------------------------------------------------\n",
    "# Exercise 07\n",
    "Write a program that picks a random number between 1-20 and makes the user guess until they get the number right. Then print a congratulations message\n",
    "- (Find out yourself how to generate a random integer)\n",
    "- Bonus: make the user choose the range within which they have to guess\n",
    "- Bonus: keep track of how many guesses were made and print this at the end"
   ]
  },
  {
   "cell_type": "code",
   "execution_count": 16,
   "id": "70358dd3",
   "metadata": {},
   "outputs": [
    {
     "name": "stdin",
     "output_type": "stream",
     "text": [
      "guess the number between 1-20: 1\n"
     ]
    },
    {
     "name": "stdout",
     "output_type": "stream",
     "text": [
      "wrong answer, try another guess\n"
     ]
    },
    {
     "name": "stdin",
     "output_type": "stream",
     "text": [
      "try again: 6\n"
     ]
    },
    {
     "name": "stdout",
     "output_type": "stream",
     "text": [
      "wrong answer, try another guess\n"
     ]
    },
    {
     "name": "stdin",
     "output_type": "stream",
     "text": [
      "try again: 3\n"
     ]
    },
    {
     "name": "stdout",
     "output_type": "stream",
     "text": [
      "wrong answer, try another guess\n"
     ]
    },
    {
     "name": "stdin",
     "output_type": "stream",
     "text": [
      "try again: 4\n"
     ]
    },
    {
     "name": "stdout",
     "output_type": "stream",
     "text": [
      "wrong answer, try another guess\n"
     ]
    },
    {
     "name": "stdin",
     "output_type": "stream",
     "text": [
      "try again: 5\n"
     ]
    },
    {
     "name": "stdout",
     "output_type": "stream",
     "text": [
      "wrong answer, try another guess\n"
     ]
    },
    {
     "name": "stdin",
     "output_type": "stream",
     "text": [
      "try again: 2\n"
     ]
    },
    {
     "name": "stdout",
     "output_type": "stream",
     "text": [
      "wrong answer, try another guess\n"
     ]
    },
    {
     "name": "stdin",
     "output_type": "stream",
     "text": [
      "try again: 7\n"
     ]
    },
    {
     "name": "stdout",
     "output_type": "stream",
     "text": [
      "wrong answer, try another guess\n"
     ]
    },
    {
     "name": "stdin",
     "output_type": "stream",
     "text": [
      "try again: 8\n"
     ]
    },
    {
     "name": "stdout",
     "output_type": "stream",
     "text": [
      "wrong answer, try another guess\n"
     ]
    },
    {
     "name": "stdin",
     "output_type": "stream",
     "text": [
      "try again: 9\n"
     ]
    },
    {
     "name": "stdout",
     "output_type": "stream",
     "text": [
      "wrong answer, try another guess\n"
     ]
    },
    {
     "name": "stdin",
     "output_type": "stream",
     "text": [
      "try again: 11\n"
     ]
    },
    {
     "name": "stdout",
     "output_type": "stream",
     "text": [
      "wrong answer, try another guess\n"
     ]
    },
    {
     "name": "stdin",
     "output_type": "stream",
     "text": [
      "try again: 10\n"
     ]
    },
    {
     "name": "stdout",
     "output_type": "stream",
     "text": [
      "wrong answer, try another guess\n"
     ]
    },
    {
     "name": "stdin",
     "output_type": "stream",
     "text": [
      "try again: 12\n"
     ]
    },
    {
     "name": "stdout",
     "output_type": "stream",
     "text": [
      "wrong answer, try another guess\n"
     ]
    },
    {
     "name": "stdin",
     "output_type": "stream",
     "text": [
      "try again: 13\n"
     ]
    },
    {
     "name": "stdout",
     "output_type": "stream",
     "text": [
      "wrong answer, try another guess\n"
     ]
    },
    {
     "name": "stdin",
     "output_type": "stream",
     "text": [
      "try again: 14\n"
     ]
    },
    {
     "name": "stdout",
     "output_type": "stream",
     "text": [
      "congratulations! that is right \n",
      "you made it after 14 guesses\n"
     ]
    }
   ],
   "source": [
    "import random\n",
    "\n",
    "random_integer=random.randint(1,20)\n",
    "user_integer=int(input('guess the number between 1-20:')) ### remember to convert the input string into integer\n",
    "n=1\n",
    "\n",
    "while user_integer!=random_integer:\n",
    "    print('wrong answer, try another guess')\n",
    "    n+=1\n",
    "    user_integer=int(input('try again:'))  ### remember to convert the input string into integer\n",
    "    \n",
    "print(f'congratulations! that is right \\nyou made it after {n} guesses') ### use f{} to recall the verviable before"
   ]
  },
  {
   "cell_type": "code",
   "execution_count": 18,
   "id": "1245a6fa-8097-40be-b67b-63717a0fa030",
   "metadata": {},
   "outputs": [
    {
     "name": "stdin",
     "output_type": "stream",
     "text": [
      "set your lower range: 1\n",
      "set your upper range: 5\n",
      "guess the number between 1-5: 6\n",
      "guess the number between 1-5: 2\n",
      "guess the number between 1-5: 4\n",
      "guess the number between 1-5: 3\n",
      "guess the number between 1-5: 1\n"
     ]
    },
    {
     "name": "stdout",
     "output_type": "stream",
     "text": [
      "congratulations! that is right \n",
      "you made it after 5 guesses\n"
     ]
    }
   ],
   "source": [
    "import random\n",
    "\n",
    "lr=int(input('set your lower range:'))\n",
    "ur=int(input('set your upper range:'))\n",
    "\n",
    "random_integer = random.randint(lr,ur+1)\n",
    "user_integer=lr-1\n",
    "n=0\n",
    "\n",
    "while not user_integer==random_integer:   ###while not ....==....  is same as while ....!=....\n",
    "    n+=1\n",
    "    user_integer=int(input(f'guess the number between {lr}-{ur}:'))\n",
    "    \n",
    "print(f'congratulations! that is right \\nyou made it after {n} guesses')"
   ]
  },
  {
   "cell_type": "markdown",
   "id": "d53b9c07",
   "metadata": {},
   "source": [
    "-----------------------------------------------------------------------------\n",
    "# Exercise 08\n",
    "Ask a sentence as input, then print the words in alphabetical order.\n",
    "Hint: look up how to split up a string"
   ]
  },
  {
   "cell_type": "code",
   "execution_count": 38,
   "id": "b6524cf5",
   "metadata": {
    "scrolled": true
   },
   "outputs": [
    {
     "name": "stdin",
     "output_type": "stream",
     "text": [
      "enter your sentence: This is the reason\n"
     ]
    },
    {
     "name": "stdout",
     "output_type": "stream",
     "text": [
      "This\n",
      "is\n",
      "reason\n",
      "the\n"
     ]
    }
   ],
   "source": [
    "user_sentence=input('enter your sentence:')\n",
    "\n",
    "sorted_words=sorted(user_sentence.split())   ###you can also use xxx.split(' ') to split sentence by \" \" or anything between quatation\n",
    "for word in sorted_words:\n",
    "    print(word)\n",
    "\n",
    "###you cann't sort words properly by this way because uppercase words are sorted higher than lowercase words"
   ]
  },
  {
   "cell_type": "code",
   "execution_count": 42,
   "id": "b74ca47b-a355-4df1-ac29-70f1974f7f54",
   "metadata": {},
   "outputs": [
    {
     "name": "stdin",
     "output_type": "stream",
     "text": [
      "enter your sentence: You can try this and check if it works\n"
     ]
    },
    {
     "name": "stdout",
     "output_type": "stream",
     "text": [
      "and\n",
      "can\n",
      "check\n",
      "if\n",
      "it\n",
      "this\n",
      "try\n",
      "works\n",
      "you\n"
     ]
    }
   ],
   "source": [
    "#scheme 1 \n",
    "user_sentence=input('enter your sentence:')\n",
    "sentence=user_sentence.lower()\n",
    "sorted_words=sorted(sentence.split())\n",
    "for word in sorted_words:\n",
    "    print(word)\n",
    "\n",
    "###there is a problems that the output convert the uppercase words in sentence into lowercase words"
   ]
  },
  {
   "cell_type": "code",
   "execution_count": null,
   "id": "ac44edff-eb7f-4213-a592-c4760c695dc8",
   "metadata": {},
   "outputs": [],
   "source": [
    "###In Python, lambda is used to create small, anonymous functions. A lambda function can take any number of arguments \n",
    "###but can only have a single expression.\n",
    "###It’s often used for short, throwaway functions that you don’t want to formally define with a def.\n",
    "###lambda 是一种参数，表达式"
   ]
  },
  {
   "cell_type": "code",
   "execution_count": 44,
   "id": "3fba8095-60df-4d52-9056-0b96be30ac48",
   "metadata": {},
   "outputs": [
    {
     "name": "stdout",
     "output_type": "stream",
     "text": [
      "8\n"
     ]
    }
   ],
   "source": [
    "# A simple lambda function that adds two numbers\n",
    "add = lambda x, y: x + y\n",
    "\n",
    "print(add(3, 5))  # Output: 8"
   ]
  },
  {
   "cell_type": "code",
   "execution_count": 57,
   "id": "85f63a75-ff90-44d2-bfc2-791e564cab74",
   "metadata": {},
   "outputs": [
    {
     "data": {
      "text/plain": [
       "15"
      ]
     },
     "execution_count": 57,
     "metadata": {},
     "output_type": "execute_result"
    }
   ],
   "source": [
    "(lambda x,a :x+a) (6,9)"
   ]
  },
  {
   "cell_type": "code",
   "execution_count": 55,
   "id": "ff71a8da-33a3-4a17-8d5f-4f240a37eaaf",
   "metadata": {},
   "outputs": [
    {
     "name": "stdin",
     "output_type": "stream",
     "text": [
      "enter your sentence: It is a good example for lambda function. Let us check the output\n"
     ]
    },
    {
     "name": "stdout",
     "output_type": "stream",
     "text": [
      "a\n",
      "check\n",
      "example\n",
      "for\n",
      "function.\n",
      "good\n",
      "is\n",
      "It\n",
      "lambda\n",
      "Let\n",
      "output\n",
      "the\n",
      "us\n"
     ]
    }
   ],
   "source": [
    "#scheme 2\n",
    "user_sentence=input('enter your sentence:')\n",
    "words=user_sentence.split()\n",
    "\n",
    "words.sort(key= lambda x: x.lower())  ###then print words directly you can get a list\n",
    "for word in words:\n",
    "    print(word)"
   ]
  },
  {
   "cell_type": "markdown",
   "id": "09a7b060",
   "metadata": {},
   "source": [
    "-----------------------------------------------------------------------------\n",
    "# Exercise 09\n",
    "Write a program using for loops to print a christmas tree of x lines high\n",
    "specified by the user.\n",
    "(use for loops)\n",
    "so for instance, a chrismas tree of 4 high should looks like this:\n",
    "\n",
    "```\n",
    "\n",
    "    *\n",
    "   ***\n",
    "  *****\n",
    " *******\n",
    "    |\n",
    "\n",
    "```\n",
    "\n",
    "hint: first combine strings into a variable before printing"
   ]
  },
  {
   "cell_type": "code",
   "execution_count": 28,
   "id": "5150f7a4",
   "metadata": {},
   "outputs": [
    {
     "name": "stdin",
     "output_type": "stream",
     "text": [
      "how many lines high christmas tree would you like: 8\n"
     ]
    },
    {
     "name": "stdout",
     "output_type": "stream",
     "text": [
      "        *\n",
      "       ***\n",
      "      *****\n",
      "     *******\n",
      "    *********\n",
      "   ***********\n",
      "  *************\n",
      " ***************\n",
      "        |\n"
     ]
    }
   ],
   "source": [
    "### the christmas tree is consist of blanks,stars and the last one vertical line.\n",
    "#tree height = n\n",
    "#1st line: n*blank + (2*1-1)*star\n",
    "#2nd line: (n-1)*blank + (2*2-1)*star\n",
    "#            .......\n",
    "#nth line: 1*blank + (2*n-1)*star\n",
    "#(n+1) line: n*blank + |\n",
    "\n",
    "height=input('how many lines high christmas tree would you like:')\n",
    "lines=int(height)\n",
    "for i in range(lines):\n",
    "    print((lines-i)*' '+(2*(i+1)-1)*'*')\n",
    "print(lines*' '+'|')"
   ]
  },
  {
   "cell_type": "markdown",
   "id": "07f67531",
   "metadata": {},
   "source": [
    "-----------------------------------------------------------------------------\n",
    "# Exercise 10\n",
    "Write a piece of code that prints the first $n$ numbers of the padovan sequence"
   ]
  },
  {
   "cell_type": "code",
   "execution_count": 77,
   "id": "d301c61b",
   "metadata": {},
   "outputs": [
    {
     "name": "stdin",
     "output_type": "stream",
     "text": [
      "enter your number: 36\n"
     ]
    },
    {
     "name": "stdout",
     "output_type": "stream",
     "text": [
      "1\n",
      "1\n",
      "1\n",
      "2\n",
      "2\n",
      "3\n",
      "4\n",
      "5\n",
      "7\n",
      "9\n",
      "12\n",
      "16\n",
      "21\n",
      "28\n",
      "37\n",
      "49\n",
      "65\n",
      "86\n",
      "114\n",
      "151\n",
      "200\n",
      "265\n",
      "351\n",
      "465\n",
      "616\n",
      "816\n",
      "1081\n",
      "1432\n",
      "1897\n",
      "2513\n",
      "3329\n",
      "4410\n",
      "5842\n",
      "7739\n",
      "10252\n",
      "13581\n"
     ]
    }
   ],
   "source": [
    "#the scheme more logical and mathematic\n",
    "p0 = 1\n",
    "p1 = 1\n",
    "p2 = 1\n",
    "\n",
    "n=int(input('enter your number:'))\n",
    "\n",
    "for i in range(n):   ###this step make the codes below run n times\n",
    "    print(p0)\n",
    "    m = p1 + p0\n",
    "    p0 = p1\n",
    "    p1 = p2\n",
    "    p2 = m\n",
    " ###the code below for-in loop is based on the condition of 'n=3' then every p0, p1, p2 all move up one\n",
    "    #p0=p1, p1=p2, p2=p3(p3=m there)"
   ]
  },
  {
   "cell_type": "code",
   "execution_count": 75,
   "id": "9c6c99f8-7094-4d3e-999b-52ade85478fc",
   "metadata": {},
   "outputs": [
    {
     "name": "stdin",
     "output_type": "stream",
     "text": [
      " 36\n"
     ]
    },
    {
     "name": "stdout",
     "output_type": "stream",
     "text": [
      "1\n",
      "1\n",
      "1\n",
      "2\n",
      "2\n",
      "3\n",
      "4\n",
      "5\n",
      "7\n",
      "9\n",
      "12\n",
      "16\n",
      "21\n",
      "28\n",
      "37\n",
      "49\n",
      "65\n",
      "86\n",
      "114\n",
      "151\n",
      "200\n",
      "265\n",
      "351\n",
      "465\n",
      "616\n",
      "816\n",
      "1081\n",
      "1432\n",
      "1897\n",
      "2513\n",
      "3329\n",
      "4410\n",
      "5842\n",
      "7739\n",
      "10252\n",
      "13581\n"
     ]
    }
   ],
   "source": [
    "#the scheme more understanding\n",
    "\n",
    "def p(n):\n",
    "    if n==0:\n",
    "        return 1\n",
    "    elif n==1:\n",
    "        return 1\n",
    "    elif n==2:\n",
    "        return 1\n",
    "    else:\n",
    "        return p(n-2)+p(n-3)\n",
    "\n",
    "num = int(input())\n",
    "\n",
    "for i in range(num):\n",
    "    print(p(i))"
   ]
  }
 ],
 "metadata": {
  "kernelspec": {
   "display_name": "Python 3 (ipykernel)",
   "language": "python",
   "name": "python3"
  },
  "language_info": {
   "codemirror_mode": {
    "name": "ipython",
    "version": 3
   },
   "file_extension": ".py",
   "mimetype": "text/x-python",
   "name": "python",
   "nbconvert_exporter": "python",
   "pygments_lexer": "ipython3",
   "version": "3.12.4"
  }
 },
 "nbformat": 4,
 "nbformat_minor": 5
}
